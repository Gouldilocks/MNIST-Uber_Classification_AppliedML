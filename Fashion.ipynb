{
 "cells": [
  {
   "cell_type": "code",
   "execution_count": 1,
   "metadata": {},
   "outputs": [
    {
     "data": {
      "text/html": [
       "<div>\n",
       "<style scoped>\n",
       "    .dataframe tbody tr th:only-of-type {\n",
       "        vertical-align: middle;\n",
       "    }\n",
       "\n",
       "    .dataframe tbody tr th {\n",
       "        vertical-align: top;\n",
       "    }\n",
       "\n",
       "    .dataframe thead th {\n",
       "        text-align: right;\n",
       "    }\n",
       "</style>\n",
       "<table border=\"1\" class=\"dataframe\">\n",
       "  <thead>\n",
       "    <tr style=\"text-align: right;\">\n",
       "      <th></th>\n",
       "      <th>label</th>\n",
       "      <th>pixel1</th>\n",
       "      <th>pixel2</th>\n",
       "      <th>pixel3</th>\n",
       "      <th>pixel4</th>\n",
       "      <th>pixel5</th>\n",
       "      <th>pixel6</th>\n",
       "      <th>pixel7</th>\n",
       "      <th>pixel8</th>\n",
       "      <th>pixel9</th>\n",
       "      <th>...</th>\n",
       "      <th>pixel775</th>\n",
       "      <th>pixel776</th>\n",
       "      <th>pixel777</th>\n",
       "      <th>pixel778</th>\n",
       "      <th>pixel779</th>\n",
       "      <th>pixel780</th>\n",
       "      <th>pixel781</th>\n",
       "      <th>pixel782</th>\n",
       "      <th>pixel783</th>\n",
       "      <th>pixel784</th>\n",
       "    </tr>\n",
       "  </thead>\n",
       "  <tbody>\n",
       "    <tr>\n",
       "      <th>0</th>\n",
       "      <td>0</td>\n",
       "      <td>0</td>\n",
       "      <td>0</td>\n",
       "      <td>0</td>\n",
       "      <td>0</td>\n",
       "      <td>0</td>\n",
       "      <td>0</td>\n",
       "      <td>0</td>\n",
       "      <td>9</td>\n",
       "      <td>8</td>\n",
       "      <td>...</td>\n",
       "      <td>103</td>\n",
       "      <td>87</td>\n",
       "      <td>56</td>\n",
       "      <td>0</td>\n",
       "      <td>0</td>\n",
       "      <td>0</td>\n",
       "      <td>0</td>\n",
       "      <td>0</td>\n",
       "      <td>0</td>\n",
       "      <td>0</td>\n",
       "    </tr>\n",
       "    <tr>\n",
       "      <th>1</th>\n",
       "      <td>1</td>\n",
       "      <td>0</td>\n",
       "      <td>0</td>\n",
       "      <td>0</td>\n",
       "      <td>0</td>\n",
       "      <td>0</td>\n",
       "      <td>0</td>\n",
       "      <td>0</td>\n",
       "      <td>0</td>\n",
       "      <td>0</td>\n",
       "      <td>...</td>\n",
       "      <td>34</td>\n",
       "      <td>0</td>\n",
       "      <td>0</td>\n",
       "      <td>0</td>\n",
       "      <td>0</td>\n",
       "      <td>0</td>\n",
       "      <td>0</td>\n",
       "      <td>0</td>\n",
       "      <td>0</td>\n",
       "      <td>0</td>\n",
       "    </tr>\n",
       "    <tr>\n",
       "      <th>2</th>\n",
       "      <td>2</td>\n",
       "      <td>0</td>\n",
       "      <td>0</td>\n",
       "      <td>0</td>\n",
       "      <td>0</td>\n",
       "      <td>0</td>\n",
       "      <td>0</td>\n",
       "      <td>14</td>\n",
       "      <td>53</td>\n",
       "      <td>99</td>\n",
       "      <td>...</td>\n",
       "      <td>0</td>\n",
       "      <td>0</td>\n",
       "      <td>0</td>\n",
       "      <td>0</td>\n",
       "      <td>63</td>\n",
       "      <td>53</td>\n",
       "      <td>31</td>\n",
       "      <td>0</td>\n",
       "      <td>0</td>\n",
       "      <td>0</td>\n",
       "    </tr>\n",
       "    <tr>\n",
       "      <th>3</th>\n",
       "      <td>2</td>\n",
       "      <td>0</td>\n",
       "      <td>0</td>\n",
       "      <td>0</td>\n",
       "      <td>0</td>\n",
       "      <td>0</td>\n",
       "      <td>0</td>\n",
       "      <td>0</td>\n",
       "      <td>0</td>\n",
       "      <td>0</td>\n",
       "      <td>...</td>\n",
       "      <td>137</td>\n",
       "      <td>126</td>\n",
       "      <td>140</td>\n",
       "      <td>0</td>\n",
       "      <td>133</td>\n",
       "      <td>224</td>\n",
       "      <td>222</td>\n",
       "      <td>56</td>\n",
       "      <td>0</td>\n",
       "      <td>0</td>\n",
       "    </tr>\n",
       "    <tr>\n",
       "      <th>4</th>\n",
       "      <td>3</td>\n",
       "      <td>0</td>\n",
       "      <td>0</td>\n",
       "      <td>0</td>\n",
       "      <td>0</td>\n",
       "      <td>0</td>\n",
       "      <td>0</td>\n",
       "      <td>0</td>\n",
       "      <td>0</td>\n",
       "      <td>0</td>\n",
       "      <td>...</td>\n",
       "      <td>0</td>\n",
       "      <td>0</td>\n",
       "      <td>0</td>\n",
       "      <td>0</td>\n",
       "      <td>0</td>\n",
       "      <td>0</td>\n",
       "      <td>0</td>\n",
       "      <td>0</td>\n",
       "      <td>0</td>\n",
       "      <td>0</td>\n",
       "    </tr>\n",
       "  </tbody>\n",
       "</table>\n",
       "<p>5 rows × 785 columns</p>\n",
       "</div>"
      ],
      "text/plain": [
       "   label  pixel1  pixel2  pixel3  pixel4  pixel5  pixel6  pixel7  pixel8  \\\n",
       "0      0       0       0       0       0       0       0       0       9   \n",
       "1      1       0       0       0       0       0       0       0       0   \n",
       "2      2       0       0       0       0       0       0      14      53   \n",
       "3      2       0       0       0       0       0       0       0       0   \n",
       "4      3       0       0       0       0       0       0       0       0   \n",
       "\n",
       "   pixel9  ...  pixel775  pixel776  pixel777  pixel778  pixel779  pixel780  \\\n",
       "0       8  ...       103        87        56         0         0         0   \n",
       "1       0  ...        34         0         0         0         0         0   \n",
       "2      99  ...         0         0         0         0        63        53   \n",
       "3       0  ...       137       126       140         0       133       224   \n",
       "4       0  ...         0         0         0         0         0         0   \n",
       "\n",
       "   pixel781  pixel782  pixel783  pixel784  \n",
       "0         0         0         0         0  \n",
       "1         0         0         0         0  \n",
       "2        31         0         0         0  \n",
       "3       222        56         0         0  \n",
       "4         0         0         0         0  \n",
       "\n",
       "[5 rows x 785 columns]"
      ]
     },
     "execution_count": 1,
     "metadata": {},
     "output_type": "execute_result"
    }
   ],
   "source": [
    "# read in the data\n",
    "import pandas as pd\n",
    "import numpy as np\n",
    "\n",
    "# Read in \"fashion-mnist_train\"\n",
    "fashion_train = pd.read_csv('fashion-mnist_train.csv')\n",
    "\n",
    "# Read in \"fashion-mnist_test\"\n",
    "fashion_test = pd.read_csv('fashion-mnist_test.csv')\n",
    "\n",
    "fashion_test.head()"
   ]
  },
  {
   "cell_type": "markdown",
   "metadata": {},
   "source": [
    "## Show a single variable from the dataset\n",
    "\n",
    "* Just to get a handle on how the data is organized, let's look at a single variable from the dataset in image form"
   ]
  },
  {
   "cell_type": "code",
   "execution_count": 2,
   "metadata": {},
   "outputs": [
    {
     "name": "stdout",
     "output_type": "stream",
     "text": [
      "Picture of:  Pullover\n"
     ]
    },
    {
     "data": {
      "image/png": "[encoded data removed]",
      "text/plain": [
       "<Figure size 432x288 with 1 Axes>"
      ]
     },
     "metadata": {
      "needs_background": "light"
     },
     "output_type": "display_data"
    }
   ],
   "source": [
    "import matplotlib as mpl\n",
    "import matplotlib.pyplot as plt\n",
    "\n",
    "clothing_types = {\n",
    "0: 'T-shirt/top',\n",
    "1: 'Trouser',\n",
    "2: 'Pullover',\n",
    "3: 'Dress',\n",
    "4: 'Coat',\n",
    "5: 'Sandal',\n",
    "6: 'Shirt',\n",
    "7: 'Sneaker',\n",
    "8: 'Bag',\n",
    "9: 'Ankle boot',\n",
    "}\n",
    "\n",
    "some_clothing = fashion_train.iloc[0]\n",
    "\n",
    "# get the value of the first element in the series\n",
    "label = some_clothing.get('label')\n",
    "some_clothing = some_clothing.drop('label', axis=0)\n",
    "# remove the \"label\" row\n",
    "some_clothing_image = some_clothing.values.reshape(28, 28)\n",
    "\n",
    "print(\"Picture of: \", clothing_types[label])\n",
    "\n",
    "plt.imshow(some_clothing_image, cmap=\"binary\")\n",
    "plt.axis(\"off\")\n",
    "plt.show()"
   ]
  },
  {
   "cell_type": "markdown",
   "metadata": {},
   "source": [
    "# Use SGD Classifier\n",
    "\n",
    "* This uses sgd classifier in order to train a binary classifier on whether or not an image is a pullover\n",
    "\n",
    "## Tasks Accomplished here:\n",
    "  * Use SGDClassifier\n",
    "  * Use One-Hot-Encoding\n",
    "    * When I create the variable fashion_train_pullovers, I am creating a one-hot-encoding of whether or not the element is a pullover. 1 for pullover, 0 for not a pullover."
   ]
  },
  {
   "cell_type": "code",
   "execution_count": 39,
   "metadata": {},
   "outputs": [
    {
     "data": {
      "text/plain": [
       "SGDClassifier(random_state=42)"
      ]
     },
     "execution_count": 39,
     "metadata": {},
     "output_type": "execute_result"
    }
   ],
   "source": [
    "from sklearn.linear_model import SGDClassifier\n",
    "\n",
    "# equivalent of y_train\n",
    "fashion_train_labels = fashion_train['label']\n",
    "fashion_train_data = fashion_train.drop('label', axis=1)\n",
    "fashion_train_data = fashion_train_data.values.tolist()\n",
    "\n",
    "# fashion_train_labels, equivalent of y-train_5\n",
    "fashion_train_pullovers = (fashion_train_labels == 2)\n",
    "# fashion_train_pullovers\n",
    "sgd_clf = SGDClassifier(random_state=42)\n",
    "# x-train, y-train_5\n",
    "sgd_clf.fit(fashion_train_data, fashion_train_pullovers)\n"
   ]
  },
  {
   "cell_type": "markdown",
   "metadata": {},
   "source": [
    "# Implement Cross-Validation\n",
    "  * This uses Cross-validation to determine the effectiveness of the classifier we made above\n",
    "\n",
    "## Tasks Accomplished here:\n",
    "  * Use k-fold Cross Validation (cross_val_score)\n",
    "  * Use StratifiedKFold cross validation"
   ]
  },
  {
   "cell_type": "code",
   "execution_count": 4,
   "metadata": {},
   "outputs": [
    {
     "name": "stdout",
     "output_type": "stream",
     "text": [
      "Scores: [0.94075 0.93685 0.93935]\n",
      "Mean: 0.9389833333333333\n",
      "Standard deviation: 0.0016131404843417246\n"
     ]
    }
   ],
   "source": [
    "from sklearn.model_selection import cross_val_score\n",
    "\n",
    "\n",
    "def display_scores(scores):\n",
    "  print(\"Scores:\", scores)\n",
    "  print(\"Mean:\", scores.mean())\n",
    "  print(\"Standard deviation:\", scores.std())\n",
    "\n",
    "\n",
    "scores_by_cross_val = cross_val_score(sgd_clf, fashion_train_data,\n",
    "                         fashion_train_pullovers, cv=3, scoring=\"accuracy\")\n",
    "display_scores(scores_by_cross_val)"
   ]
  },
  {
   "cell_type": "code",
   "execution_count": 5,
   "metadata": {},
   "outputs": [
    {
     "name": "stdout",
     "output_type": "stream",
     "text": [
      "Correctness of this fold:  0.9241\n",
      "Correctness of this fold:  0.92835\n",
      "Correctness of this fold:  0.939\n"
     ]
    }
   ],
   "source": [
    "from sklearn.model_selection import StratifiedKFold\n",
    "from sklearn.base import clone\n",
    "\n",
    "skfolds = StratifiedKFold(n_splits=3, shuffle=True, random_state=42)\n",
    "\n",
    "for train_index, test_index in skfolds.split(fashion_train_data, fashion_train_pullovers):\n",
    "    clone_clf = clone(sgd_clf)\n",
    "    X_train_folds = np.array(fashion_train_data)[train_index.astype(int)]\n",
    "    y_train_folds = np.array(fashion_train_pullovers)[train_index.astype(int)]\n",
    "    X_test_fold = np.array(fashion_train_data)[test_index.astype(int)]\n",
    "    y_test_fold = np.array(fashion_train_pullovers)[test_index.astype(int)]\n",
    "\n",
    "    clone_clf.fit(X_train_folds, y_train_folds)\n",
    "    y_pred = clone_clf.predict(X_test_fold)\n",
    "    n_correct = sum(y_pred == y_test_fold)\n",
    "    print(\"Correctness of this fold: \",n_correct / len(y_pred))\n"
   ]
  },
  {
   "cell_type": "markdown",
   "metadata": {},
   "source": [
    "# Use an OvR Classifier\n",
    "\n",
    "  * Ensemble of methods (OvR Classifier)\n",
    "  * Run an OvR classifier\n",
    "\n",
    "THIS CELL BELOW TAKES 33 minutes to run on my laptop, so I would not suggest running it yourself unless you want to wait for it"
   ]
  },
  {
   "cell_type": "code",
   "execution_count": 6,
   "metadata": {},
   "outputs": [
    {
     "name": "stdout",
     "output_type": "stream",
     "text": [
      "one vs rest\n",
      "this is the second line\n",
      "the end\n"
     ]
    }
   ],
   "source": [
    "from sklearn.multiclass import OneVsRestClassifier\n",
    "from sklearn.svm import SVC\n",
    "\n",
    "ovr_clf = OneVsRestClassifier(SVC())\n",
    "print(\"one vs rest\")\n",
    "# x-train, y-train\n",
    "ovr_clf.fit(fashion_train_data, fashion_train_labels.values.tolist())\n",
    "print(\"this is the second line\")\n",
    "ovr_clf.predict([some_clothing])\n",
    "print(\"the end\")"
   ]
  },
  {
   "cell_type": "code",
   "execution_count": 11,
   "metadata": {},
   "outputs": [
    {
     "name": "stdout",
     "output_type": "stream",
     "text": [
      "actual label:  5\n",
      "predicted label:  [5]\n"
     ]
    }
   ],
   "source": [
    "# First test a single item which we know is a pullover\n",
    "ovr_clf.predict([some_clothing])\n",
    "\n",
    "some_clothing = fashion_train.iloc[50]\n",
    "\n",
    "# get the value of the first element in the series\n",
    "label = some_clothing.get('label')\n",
    "some_clothing = some_clothing.drop('label', axis=0)\n",
    "\n",
    "\n",
    "print(\"actual label: \", label)\n",
    "print(\"predicted label: \", ovr_clf.predict([some_clothing]))"
   ]
  },
  {
   "cell_type": "markdown",
   "metadata": {},
   "source": [
    "# Generate an ROC curve"
   ]
  },
  {
   "cell_type": "code",
   "execution_count": 14,
   "metadata": {},
   "outputs": [],
   "source": [
    "from sklearn.metrics import roc_curve\n",
    "from sklearn.model_selection import cross_val_predict\n",
    "\n",
    "y_scores = cross_val_predict(sgd_clf, fashion_train_data, fashion_train_pullovers, cv=3,\n",
    "                             method=\"decision_function\")\n",
    "fpr, tpr, thresholds = roc_curve(\n",
    "    fashion_train_pullovers, y_scores)\n"
   ]
  },
  {
   "cell_type": "code",
   "execution_count": 15,
   "metadata": {},
   "outputs": [
    {
     "data": {
      "image/png": "[encoded data removed]",
      "text/plain": [
       "<Figure size 432x288 with 1 Axes>"
      ]
     },
     "metadata": {
      "needs_background": "light"
     },
     "output_type": "display_data"
    }
   ],
   "source": [
    "def plot_roc_curve(fpr, tpr, label=None):\n",
    "    plt.plot(fpr, tpr, linewidth=2, label=label)\n",
    "    plt.plot([0, 1], [0, 1], 'k--')  # Dashed diagonal\n",
    "    [...]  # Add axis labels and grid\n",
    "\n",
    "\n",
    "plot_roc_curve(fpr, tpr)\n",
    "plt.show()\n"
   ]
  },
  {
   "cell_type": "markdown",
   "metadata": {},
   "source": [
    "# Make a full data pipeline"
   ]
  },
  {
   "cell_type": "code",
   "execution_count": 10,
   "metadata": {},
   "outputs": [],
   "source": [
    "from sklearn.linear_model import SGDClassifier\n",
    "\n",
    "# equivalent of y_train\n",
    "y_train = fashion_train['label'].values.tolist()\n",
    "# equivalent of x_train\n",
    "x_train = fashion_train.drop('label', axis=1).values.tolist()\n",
    "\n",
    "# equivalent of y_test\n",
    "y_test = fashion_test['label'].values.tolist()\n",
    "# equivalent of x_test\n",
    "x_test = fashion_test.drop('label', axis=1).values.tolist()"
   ]
  },
  {
   "cell_type": "code",
   "execution_count": null,
   "metadata": {},
   "outputs": [],
   "source": [
    "# Run the model\n",
    "sgd_clf = SGDClassifier(random_state=42)\n",
    "# x-train, y-train_5\n",
    "sgd_clf.fit(x_train, y_train)\n"
   ]
  },
  {
   "cell_type": "markdown",
   "metadata": {},
   "source": [
    "## Pipeline itself\n",
    "\n",
    "* There is no preprocessing of the data to do once it is split into x and y, so all we do is add the classifier"
   ]
  },
  {
   "cell_type": "code",
   "execution_count": 52,
   "metadata": {},
   "outputs": [],
   "source": [
    "from sklearn.pipeline import Pipeline\n",
    "\n",
    "pipeline = Pipeline(steps=[('check_type_of_clothing', SGDClassifier(random_state=42))])\n"
   ]
  },
  {
   "cell_type": "code",
   "execution_count": 53,
   "metadata": {},
   "outputs": [],
   "source": [
    "# Fit the pipeline to the training set\n",
    "clothing_model = pipeline.fit(x_train, y_train)"
   ]
  },
  {
   "cell_type": "markdown",
   "metadata": {},
   "source": [
    "### Score the model"
   ]
  },
  {
   "cell_type": "code",
   "execution_count": 54,
   "metadata": {},
   "outputs": [
    {
     "name": "stdout",
     "output_type": "stream",
     "text": [
      "0.702\n"
     ]
    }
   ],
   "source": [
    "from sklearn.metrics import r2_score\n",
    "# Predict on the test set and print the accuracy level\n",
    "predictions = clothing_model.predict(x_test)\n",
    "print(r2_score(y_test, predictions))"
   ]
  },
  {
   "cell_type": "markdown",
   "metadata": {},
   "source": [
    "So from this, we can see that our model was about 70% effective at predicting what type of clothing it was! That's not so bad. if we chose randomly, we would have about a 10% chance to get it right, so a very large improvement on randomly selecting!\n",
    "\n",
    "### Save the model\n",
    "\n",
    "Now lets save the model to a file, so that we can use it later if we like"
   ]
  },
  {
   "cell_type": "code",
   "execution_count": 55,
   "metadata": {},
   "outputs": [
    {
     "data": {
      "text/plain": [
       "['./clothing_model.pkl']"
      ]
     },
     "execution_count": 55,
     "metadata": {},
     "output_type": "execute_result"
    }
   ],
   "source": [
    "import joblib\n",
    "joblib.dump(clothing_model, './clothing_model.pkl')"
   ]
  },
  {
   "cell_type": "markdown",
   "metadata": {},
   "source": [
    "### Call the model via the file\n",
    "\n",
    "So now if we wanted to use this model in the future, we could load from that .pkl file"
   ]
  },
  {
   "cell_type": "code",
   "execution_count": 56,
   "metadata": {},
   "outputs": [
    {
     "name": "stdout",
     "output_type": "stream",
     "text": [
      "0.702\n"
     ]
    }
   ],
   "source": [
    "rf_model = joblib.load('./clothing_model.pkl')\n",
    "new_prediction = rf_model.predict(x_test)\n",
    "print(r2_score(y_test, new_prediction))"
   ]
  },
  {
   "cell_type": "markdown",
   "metadata": {},
   "source": [
    "# Pipeline for Binary Classifier\n",
    "\n",
    "That last pipeline was pretty boring, since the data was already set up perfectly to allow for model creation. There is a one-hot encoding needed for making a Binary Classifier, so that's what we are going to do here."
   ]
  },
  {
   "cell_type": "code",
   "execution_count": 6,
   "metadata": {},
   "outputs": [],
   "source": [
    "from sklearn.impute import SimpleImputer\n",
    "from sklearn.compose import ColumnTransformer\n",
    "from sklearn.preprocessing import StandardScaler\n",
    "from sklearn.pipeline import Pipeline\n",
    "from sklearn.linear_model import SGDClassifier\n",
    "\n",
    "numeric_transformer = Pipeline(steps=[\n",
    "    ('imputer', SimpleImputer(strategy='mean')), ('scaler', StandardScaler())\n",
    "])\n",
    "\n",
    "preprocessor = ColumnTransformer(\n",
    "    transformers=[\n",
    "        ('numeric', numeric_transformer, fashion_train.drop(\n",
    "            ['label'], axis=1).columns.tolist()),\n",
    "    ])\n",
    "\n",
    "binary_pipeline = Pipeline(steps=[\n",
    "  ('prep the data', preprocessor),\n",
    "  ('check_type_of_clothing', SGDClassifier(random_state=42))])"
   ]
  },
  {
   "cell_type": "markdown",
   "metadata": {},
   "source": [
    "### Train the pipeline\n",
    "\n",
    "* This trains on whether or not the clothing piece in question is a pullover"
   ]
  },
  {
   "cell_type": "code",
   "execution_count": 47,
   "metadata": {},
   "outputs": [],
   "source": [
    "y_train_2 = (fashion_train['label'] == 2).astype(int)\n",
    "y_test_2 = (fashion_test['label'] == 2).astype(int)"
   ]
  },
  {
   "cell_type": "code",
   "execution_count": 14,
   "metadata": {},
   "outputs": [
    {
     "data": {
      "text/plain": [
       "Pipeline(steps=[('prep the data',\n",
       "                 ColumnTransformer(transformers=[('numeric',\n",
       "                                                  Pipeline(steps=[('imputer',\n",
       "                                                                   SimpleImputer()),\n",
       "                                                                  ('scaler',\n",
       "                                                                   StandardScaler())]),\n",
       "                                                  ['pixel1', 'pixel2', 'pixel3',\n",
       "                                                   'pixel4', 'pixel5', 'pixel6',\n",
       "                                                   'pixel7', 'pixel8', 'pixel9',\n",
       "                                                   'pixel10', 'pixel11',\n",
       "                                                   'pixel12', 'pixel13',\n",
       "                                                   'pixel14', 'pixel15',\n",
       "                                                   'pixel16', 'pixel17',\n",
       "                                                   'pixel18', 'pixel19',\n",
       "                                                   'pixel20', 'pixel21',\n",
       "                                                   'pixel22', 'pixel23',\n",
       "                                                   'pixel24', 'pixel25',\n",
       "                                                   'pixel26', 'pixel27',\n",
       "                                                   'pixel28', 'pixel29',\n",
       "                                                   'pixel30', ...])])),\n",
       "                ('check_type_of_clothing', SGDClassifier(random_state=42))])"
      ]
     },
     "execution_count": 14,
     "metadata": {},
     "output_type": "execute_result"
    }
   ],
   "source": [
    "binary_pipeline.fit(fashion_train.drop(\n",
    "    'label', axis=1), y_train_2.values.tolist())\n"
   ]
  },
  {
   "cell_type": "markdown",
   "metadata": {},
   "source": [
    "### Score the model"
   ]
  },
  {
   "cell_type": "code",
   "execution_count": 49,
   "metadata": {},
   "outputs": [
    {
     "name": "stdout",
     "output_type": "stream",
     "text": [
      "type of predictions:  <class 'numpy.ndarray'> length:  10000\n",
      "type of y_test:  <class 'pandas.core.series.Series'> length:  10000\n",
      "0.2544444444444445\n"
     ]
    }
   ],
   "source": [
    "from sklearn.metrics import r2_score\n",
    "# Predict on the test set and print the accuracy level\n",
    "predictions = binary_pipeline.predict(fashion_test.drop(\n",
    "    'label', axis=1))\n",
    "predictions = predictions.astype(int)\n",
    "print(r2_score(y_test_2, predictions))\n"
   ]
  },
  {
   "cell_type": "markdown",
   "metadata": {},
   "source": [
    "### Save the model"
   ]
  },
  {
   "cell_type": "code",
   "execution_count": 51,
   "metadata": {},
   "outputs": [
    {
     "data": {
      "text/plain": [
       "['./clothing_model_binary.pkl']"
      ]
     },
     "execution_count": 51,
     "metadata": {},
     "output_type": "execute_result"
    }
   ],
   "source": [
    "import joblib\n",
    "joblib.dump(clothing_model, './clothing_model_binary.pkl')\n"
   ]
  },
  {
   "cell_type": "code",
   "execution_count": null,
   "metadata": {},
   "outputs": [],
   "source": []
  },
  {
   "cell_type": "code",
   "execution_count": null,
   "metadata": {},
   "outputs": [],
   "source": [
    "rf_model = joblib.load('./clothing_model_binary.pkl')\n",
    "new_prediction_binary = binary_pipeline.predict(x_test)\n",
    "print(r2_score(y_test, new_prediction))\n"
   ]
  }
 ],
 "metadata": {
  "interpreter": {
   "hash": "b0fa6594d8f4cbf19f97940f81e996739fb7646882a419484c72d19e05852a7e"
  },
  "kernelspec": {
   "display_name": "Python 3.9.10 64-bit",
   "language": "python",
   "name": "python3"
  },
  "language_info": {
   "codemirror_mode": {
    "name": "ipython",
    "version": 3
   },
   "file_extension": ".py",
   "mimetype": "text/x-python",
   "name": "python",
   "nbconvert_exporter": "python",
   "pygments_lexer": "ipython3",
   "version": "3.9.10"
  },
  "orig_nbformat": 4
 },
 "nbformat": 4,
 "nbformat_minor": 2
}
